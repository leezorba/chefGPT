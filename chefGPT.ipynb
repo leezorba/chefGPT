{
 "cells": [
  {
   "cell_type": "code",
   "execution_count": 5,
   "metadata": {},
   "outputs": [
    {
     "name": "stdout",
     "output_type": "stream",
     "text": [
      "[Document(page_content=': 740\\nhref: https://veganuary.com/recipes/korean-temple-kimchi/\\ntitle: Vegan Korean Temple Kimchi\\ningredients: Ingredients\\n\\n2 cabbages\\n3 cups Red Chilli Powder (Gochugaru)\\n½ cup Naturally Brewed Soy Sauce\\n2 cups Glutinous Rice Porridge\\nKorean Raspberry Extract ½ cup\\n20g Green Sea Fingers (Cheonggak)\\n½ cups Cooked Soybean (boiled and mashed into a paste)\\nSalt\\npreparation: Method\\n\\nRemove the base of the green sea fingers and finely chop them until they form a soft paste.\\nMix in a large bowl the glutinous rice porridge, red chili powder, prepared green sea fingers, prepared soybean, soy sauce and Korean raspberry extract. Season the mixture using salt (about 1 Tbsp). Leave the paste to rest for about 2 hours.\\nMix three handfuls of salt into a large bowl of water and soak the cabbage.\\nCut the cabbages vertically in half and make small cuts in the roots. Mix three handfuls of salt into a large bowl of water and soak the cabbage for a minute or so.\\nSpread a generous amount of salt in between the leaves (coarse sea salt works best); add even more to the stems. Leave for as long as possible to rest – from 3 to 12 hours.\\nRemove any excess brine from the cabbages and spread the prepared seasoning paste between the leaves.\\nCover the cabbages using the outermost leaves and store them in containers to ferment.', metadata={'row': 740.0, 'source': './recipes.csv'}), Document(page_content=': 1369\\nhref: https://simple-veganista.com/kimchi/\\ntitle: VEGAN KIMCHI\\ningredients: Ingredients\\n\\n\\n\\nScale\\n1x2x3x \\n\\n\\n\\n\\n1 medium Napa cabbage, about 2 lbs (savoy, green or any combo works too)\\n1/4 cup kosher, sea salt or other coarse salt\\n6 cups water\\n3/4 sweet apple (I used fuji), chopped\\n1/2 small white onion, chopped\\n1 1/2 inch ginger, chopped\\n1 – 2 cloves garlic\\n3 tablespoons Korean red chili powder (gochugaru) or 1 tablespoon each cayenne & Hungarian paprika\\n3 – 4 scallions (green onions), sliced 1 inch\\npreparation: Instructions\\n\\n\\nPreparing Cabbage: Quarter cabbage and chop laterally into about 2 inch pieces. Place cabbage in an extra large bowl or pot. Combine salt with 2 cups of lukewarm water, stir to dissolve salt. Pour salt water over the cabbage and add remaining 4 cups, stir to mix. If you can, place a plate or circular baking dish of sorts on top to submerge the cabbage (I used a pie dish), place something with a good amount of weight on top to hold down if necessary (it’s not completely necessary but will help to evenly wilt the cabbage). Give cabbage a good mix every now and then. Let soak for 2 hours, up to 12 if you like. I found that 2 – 4 hours was enough and didn’t see much change between the two times.\\nMake your seasonings: While cabbage is soaking, combine apple, onion, ginger and garlic in food processor/blender and process until fairly smooth.\\nIn a small bowl, mix the chili pepper with a small amount of water to make a wet paste. You can just as easily blend it with the apple/onion mixture adding a couple tablespoons of water as well.\\nMix everything together: Once cabbage is ready, drain water, reserving 1/2 cup, and rinse well. Place cabbage back in large bowl, combine with the scallions, apple/onion mixture and chili paste. Mix well to coat all pieces. Either use your hands (with gloves on pref to protect from the chili pepper) or simply use wooden spoons to toss everything.\\nPacking: Place the kimchi in glass jars or containers with lid, pack down the best you can to close air pockets and leave about an inch at the top for air and gases. Top with remaining juices, add reserved brine if needed to cover vegetables.\\nFermenting: Let kimchi sit at room temp (or in a cool place like a pantry or closet if weather is extremely warm) for 24 – 36 hours. After 24 hours, open kimchi and pack the mixture down with a spoon (the cabbage will have likely shrunk and you’ll have more liquids). You may notice it bubbling, this is perfectly normal as the kimchi is fermenting. As your kimchi ferments the flavors will develop, taste every 24 hours and place kimchi in the refrigerator once you’re happy with the taste and to slow fermentation, usually after 36 – 48 hours. It should be tangy, spicy and slightly sweet. After moving to the fridge, it’s best used within a month, maybe two.\\nMakes about 3 – 4 cups\\nServe with rice, use in Kimchi Fried Rice or make Kimchi Tofu Scramble!', metadata={'row': 1369.0, 'source': './recipes.csv'}), Document(page_content=': 430\\nhref: https://veganuary.com/recipes/stuffed-cucumber-kimchi/\\ntitle: Stuffed Cucumber Kimchi\\ningredients: Ingredients\\n\\n1 large cucumber\\n10 Radishes\\n1 large (Asian) pear, or two small pears\\nPurified Water\\n3 Tbsp Naturally Brewed Soy Sauce\\n1 Cup Salt\\n3 Tbsp green plum extract\\npreparation: Method\\n\\nWash the cucumbers with salt to cleanse thoroughly. Soak the prepared cucumbers in boiling salted water.\\nMeanwhile, finely shred ½ of the pear(s) and the radishes. Add 1 Tbsp soy sauce and 1 Tbsp plum extract to the prepared pear and radishes, and mix well with your hands.\\nGrate the remainder of the pears and sieve or strain to collect juice. Add the purified water, 2 Tbsp soy sauce, 2 Tbsp plum extract and a pinch of salt to the juice.\\nCut the cucumber into 3cm cylindrical pieces and make cross-cuts on the circular face of each piece. Stuff the cucumbers with the radish and pear mixture and transfer to a plate. To finish, pour the pear juice mixture over the cucumber pieces.', metadata={'row': 430.0, 'source': './recipes.csv'}), Document(page_content=': 1104\\nhref: https://simple-veganista.com/kimchi-fried-rice/\\ntitle: Vegan Kimchi Fried Rice\\ningredients: Ingredients\\n\\n\\n\\nUnits\\nUSM \\n\\nScale\\n1x2x3x \\n\\n\\n\\n\\n1 cup dried rice (or 3 cups cooked)\\n1 tablespoon sesame oil\\n1 – 2 cloves garlic, minced\\n1 inch knob ginger, grated or minced\\n1 cup frozen veggie mix (anything with carrots, peas, corn and/or green beans)\\n1 – 1 1/2 cups Vegan Kimchi (the more the merrier), chop the kimchi if you like\\n1 tablespoon tamari, soy sauce or coconut aminos, or to taste\\n1 tablespoon gochujang, or to taste (optional)\\n\\nTo garnish\\n\\n1 nori sheet, thinly sliced\\n2 scallions, thinly sliced (pale green + green parts only)\\nsesame seeds (white, black, toasted or combo)\\npreparation: Instructions\\n\\n\\nRice: Cook the rice according to package directions. For best results, use day old rice.\\nStir-fry: In a wok or pan, heat the oil over medium-high heat, add the garlic and ginger, cook until fragrant, about 30 – 60 seconds, stirring frequently. Add the rice, kimchi and frozen veggies, give a good mix, add the tamari and optional gochujang, stir fry for 3 – 4 minutes, or until most of the liquids have been absorbed. Taste for flavor, adding more tamari or chili pepper flakes.\\nServe: Spoon into individual bowls with sliced nori sheets, scallions and sesame seeds.\\nStore: Leftovers can be kept in the refrigerator for up to 3 days in a covered container. For longer storage, keep in the freezer for up to 2 – 3 months. Let thaw before reheating on the stovetop or microwave.', metadata={'row': 1104.0, 'source': './recipes.csv'})]\n"
     ]
    }
   ],
   "source": [
    "from langchain_community.document_loaders import CSVLoader\n",
    "from langchain.text_splitter import RecursiveCharacterTextSplitter\n",
    "from langchain_openai import OpenAIEmbeddings\n",
    "from langchain_pinecone import Pinecone\n",
    "\n",
    "embeddings = OpenAIEmbeddings()\n",
    "\n",
    "vectorstore = Pinecone.from_existing_index(\n",
    "    \"recipes\",\n",
    "    embeddings,\n",
    ")\n",
    "\n",
    "docs = vectorstore.similarity_search(\"kimchi\")\n",
    "\n",
    "print(docs)"
   ]
  },
  {
   "cell_type": "code",
   "execution_count": null,
   "metadata": {},
   "outputs": [],
   "source": []
  }
 ],
 "metadata": {
  "kernelspec": {
   "display_name": "env",
   "language": "python",
   "name": "python3"
  },
  "language_info": {
   "codemirror_mode": {
    "name": "ipython",
    "version": 3
   },
   "file_extension": ".py",
   "mimetype": "text/x-python",
   "name": "python",
   "nbconvert_exporter": "python",
   "pygments_lexer": "ipython3",
   "version": "3.12.0"
  }
 },
 "nbformat": 4,
 "nbformat_minor": 2
}
