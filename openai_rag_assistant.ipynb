{
 "cells": [
  {
   "cell_type": "code",
   "execution_count": 1,
   "metadata": {},
   "outputs": [],
   "source": [
    "from openai import OpenAI\n",
    "\n",
    "client = OpenAI()\n",
    "\n",
    "assistant = client.beta.assistants.create(\n",
    "    name=\"Book Assistant v2\",\n",
    "    instructions=\"You help users with their questions on the files they upload as well as the files that were already uploaded via openai assistant tool.\",\n",
    "    tools=[{\"type\": \"file_search\"}],\n",
    "    model=\"gpt-4o\",\n",
    ")\n",
    "\n",
    "# assistant_id = \"asst_R0iQNbINw8zNsXGeppTnBZYD\""
   ]
  },
  {
   "cell_type": "code",
   "execution_count": 2,
   "metadata": {},
   "outputs": [
    {
     "data": {
      "text/plain": [
       "Thread(id='thread_bpYRvyh1beoTVXv30pyMA5My', created_at=1720487956, metadata={}, object='thread', tool_resources=ToolResources(code_interpreter=None, file_search=None))"
      ]
     },
     "execution_count": 2,
     "metadata": {},
     "output_type": "execute_result"
    }
   ],
   "source": [
    "thread = client.beta.threads.create()\n",
    "\n",
    "message = client.beta.threads.messages.create(\n",
    "    thread_id=thread.id,\n",
    "    role=\"user\",\n",
    "    content=\"I want you to answer my questions with the files I uplaoded. When you answer my question, you MUST include the source citations with the full source text at the bottom so I can easily find the sources.\",\n",
    ")\n",
    "\n",
    "thread"
   ]
  },
  {
   "cell_type": "code",
   "execution_count": 8,
   "metadata": {},
   "outputs": [
    {
     "name": "stdout",
     "output_type": "stream",
     "text": [
      "Run(id='run_7w7jSC2x7l5GKeJJAdByCgJs', assistant_id='asst_flpe01vTZ9AwYkvzx4o3jjZw', cancelled_at=None, completed_at=None, created_at=1720487982, expires_at=1720488582, failed_at=None, incomplete_details=None, instructions='You help users with their questions on the files they upload.', last_error=None, max_completion_tokens=None, max_prompt_tokens=None, metadata={}, model='gpt-4o', object='thread.run', parallel_tool_calls=True, required_action=None, response_format='auto', started_at=None, status='queued', thread_id='thread_bpYRvyh1beoTVXv30pyMA5My', tool_choice='auto', tools=[FileSearchTool(type='file_search', file_search=None)], truncation_strategy=TruncationStrategy(type='auto', last_messages=None), usage=None, temperature=1.0, top_p=1.0, tool_resources={})\n"
     ]
    }
   ],
   "source": [
    "run = client.beta.threads.runs.create(\n",
    "    thread_id=thread.id,\n",
    "    assistant_id=assistant.id,\n",
    ")\n",
    "\n",
    "print(run)"
   ]
  },
  {
   "cell_type": "code",
   "execution_count": 4,
   "metadata": {},
   "outputs": [
    {
     "data": {
      "text/plain": [
       "FileObject(id='file-hgHUUfojznABoFkjd7cAqXpt', bytes=1644307, created_at=1720487962, filename='Orwell_1984.pdf', object='file', purpose='assistants', status='processed', status_details=None)"
      ]
     },
     "execution_count": 4,
     "metadata": {},
     "output_type": "execute_result"
    }
   ],
   "source": [
    "with open(\"./files/Orwell_1984.pdf\", \"rb\") as file_object:\n",
    "    file = client.files.create(\n",
    "        file=file_object,\n",
    "        purpose=\"assistants\",\n",
    "    )\n",
    "\n",
    "file"
   ]
  },
  {
   "cell_type": "code",
   "execution_count": 5,
   "metadata": {},
   "outputs": [
    {
     "data": {
      "text/plain": [
       "Message(id='msg_D9cARfloZfRDeOVK6lZ6FRh2', assistant_id=None, attachments=[Attachment(file_id='file-hgHUUfojznABoFkjd7cAqXpt', tools=[AttachmentToolAssistantToolsFileSearchTypeOnly(type='file_search')])], completed_at=None, content=[TextContentBlock(text=Text(annotations=[], value='Please refer to the uploaded file for my question. '), type='text')], created_at=1720487966, incomplete_at=None, incomplete_details=None, metadata={}, object='thread.message', role='user', run_id=None, status=None, thread_id='thread_bpYRvyh1beoTVXv30pyMA5My')"
      ]
     },
     "execution_count": 5,
     "metadata": {},
     "output_type": "execute_result"
    }
   ],
   "source": [
    "client.beta.threads.messages.create(\n",
    "    thread_id=thread.id,\n",
    "    role=\"user\",\n",
    "    content=\"Please refer to the uploaded file for my question. \",\n",
    "    attachments=[\n",
    "        {\n",
    "            \"file_id\": file.id,\n",
    "            \"tools\": [\n",
    "                {\n",
    "                    \"type\": \"file_search\",\n",
    "                }\n",
    "            ],\n",
    "        }\n",
    "    ],\n",
    ")"
   ]
  },
  {
   "cell_type": "code",
   "execution_count": 6,
   "metadata": {},
   "outputs": [],
   "source": [
    "def get_run(run_id, thread_id):\n",
    "    return client.beta.threads.runs.retrieve(\n",
    "        run_id=run_id,\n",
    "        thread_id=thread_id,\n",
    "    )\n",
    "\n",
    "\n",
    "def get_messages(thread_id):\n",
    "    messages = client.beta.threads.messages.list(thread_id=thread_id)\n",
    "    messages = list(messages)\n",
    "    messages.reverse()\n",
    "    for message in messages:\n",
    "        print(f\"{message.role}: {message.content[0].text.value}\")\n",
    "\n",
    "\n",
    "def send_message(thread_id, content):\n",
    "    return client.beta.threads.messages.create(\n",
    "        thread_id=thread_id, role=\"user\", content=content\n",
    "    )"
   ]
  },
  {
   "cell_type": "code",
   "execution_count": 12,
   "metadata": {},
   "outputs": [
    {
     "name": "stdout",
     "output_type": "stream",
     "text": [
      "user: I want you to answer my questions with the files I uplaoded. When you answer my question, you MUST include the source citations with the full source text at the bottom so I can easily find the sources.\n",
      "assistant: Absolutely, I'll make sure to include citations with full source text at the bottom of my responses. Please go ahead and upload your files, and let me know your specific questions.\n",
      "user: Please refer to the uploaded file for my question. \n",
      "user: I want to know where Winston lives and how his residence looks like.\n",
      "assistant: Winston Smith lives in Victory Mansions, a large apartment block. His flat is located seven flights up, and he has to take the stairs since the lift rarely works due to frequent power cuts implemented as part of an economy drive. The hallway of the building smells of \"boiled cabbage and old rag mats,\" depicting a rather bleak and decayed atmosphere. Inside his flat, there is a telescreen that broadcasts and monitors simultaneously, making it impossible for residents to have any true privacy. The patches of colour come from the numerous propaganda posters featuring \"BIG BROTHER IS WATCHING YOU\" that adorn the area【7:8†source】【7:18†source】. \n",
      "\n",
      "For a more detailed description,\n",
      "\n",
      "- **Victory Mansions**: The building is not well-maintained, with shabby conditions evident from the smell and the lack of working amenities like the elevator. The power is often cut off during daylight hours as part of preparations for events like Hate Week.\n",
      "\n",
      "- **Winston's Flat**: The flat continues the theme of decay and invasion of privacy. The telescreen dominates the environment, continuously broadcasting and receiving information, ensuring that residents are always under surveillance. Even though there is a window, the view itself is bleak, offering a world with \"little eddies of wind whirling dust and torn paper into spirals,\" and a sky that is harshly blue but colorless【7:6†source】【7:8†source】.\n",
      "\n",
      "### Full Source Text\n",
      "\n",
      "**Victory Mansions**\n",
      "> \"The hallway smelt of boiled cabbage and old rag mats. At one end of it a coloured poster, too large for indoor display, had been tacked\n"
     ]
    }
   ],
   "source": [
    "get_messages(thread.id)"
   ]
  },
  {
   "cell_type": "code",
   "execution_count": 11,
   "metadata": {},
   "outputs": [
    {
     "data": {
      "text/plain": [
       "'completed'"
      ]
     },
     "execution_count": 11,
     "metadata": {},
     "output_type": "execute_result"
    }
   ],
   "source": [
    "get_run(run.id, thread.id).status"
   ]
  },
  {
   "cell_type": "code",
   "execution_count": null,
   "metadata": {},
   "outputs": [],
   "source": [
    "get_messages(thread.id)"
   ]
  },
  {
   "cell_type": "code",
   "execution_count": 7,
   "metadata": {},
   "outputs": [
    {
     "data": {
      "text/plain": [
       "Message(id='msg_9jOK4beTnh7znypMbf47jnpd', assistant_id=None, attachments=[], completed_at=None, content=[TextContentBlock(text=Text(annotations=[], value='I want to know where Winston lives and how his residence looks like.'), type='text')], created_at=1720487977, incomplete_at=None, incomplete_details=None, metadata={}, object='thread.message', role='user', run_id=None, status=None, thread_id='thread_bpYRvyh1beoTVXv30pyMA5My')"
      ]
     },
     "execution_count": 7,
     "metadata": {},
     "output_type": "execute_result"
    }
   ],
   "source": [
    "send_message(\n",
    "    thread.id, \"I want to know where Winston lives and how his residence looks like.\"\n",
    ")"
   ]
  },
  {
   "cell_type": "code",
   "execution_count": null,
   "metadata": {},
   "outputs": [],
   "source": [
    "get_messages(thread.id)"
   ]
  },
  {
   "cell_type": "code",
   "execution_count": null,
   "metadata": {},
   "outputs": [],
   "source": []
  }
 ],
 "metadata": {
  "kernelspec": {
   "display_name": "env",
   "language": "python",
   "name": "python3"
  },
  "language_info": {
   "codemirror_mode": {
    "name": "ipython",
    "version": 3
   },
   "file_extension": ".py",
   "mimetype": "text/x-python",
   "name": "python",
   "nbconvert_exporter": "python",
   "pygments_lexer": "ipython3",
   "version": "3.12.0"
  }
 },
 "nbformat": 4,
 "nbformat_minor": 2
}
