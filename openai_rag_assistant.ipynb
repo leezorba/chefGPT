{
 "cells": [
  {
   "cell_type": "code",
   "execution_count": 1,
   "metadata": {},
   "outputs": [],
   "source": [
    "from openai import OpenAI\n",
    "\n",
    "client = OpenAI()\n",
    "\n",
    "assistant = client.beta.assistants.create(\n",
    "    name=\"Book Assistant v2\",\n",
    "    instructions=\"You help users with their questions on the files they upload.\",\n",
    "    tools=[{\"type\": \"file_search\"}],\n",
    "    model=\"gpt-4o\",\n",
    ")\n",
    "\n",
    "# assistant_id = \"asst_R0iQNbINw8zNsXGeppTnBZYD\""
   ]
  },
  {
   "cell_type": "code",
   "execution_count": 2,
   "metadata": {},
   "outputs": [
    {
     "data": {
      "text/plain": [
       "Thread(id='thread_nHtnljPqee7IWeELvZ4t3tFj', created_at=1720486743, metadata={}, object='thread', tool_resources=ToolResources(code_interpreter=None, file_search=None))"
      ]
     },
     "execution_count": 2,
     "metadata": {},
     "output_type": "execute_result"
    }
   ],
   "source": [
    "thread = client.beta.threads.create()\n",
    "\n",
    "message = client.beta.threads.messages.create(\n",
    "    thread_id=thread.id,\n",
    "    role=\"user\",\n",
    "    content=\"I want you to answer my questions with the files I uplaoded. When you answer my question, you MUST include the source citations with the full source text at the bottom so I can easily find the sources.\",\n",
    ")\n",
    "\n",
    "thread"
   ]
  },
  {
   "cell_type": "code",
   "execution_count": 13,
   "metadata": {},
   "outputs": [
    {
     "name": "stdout",
     "output_type": "stream",
     "text": [
      "Run(id='run_fQ7N9Oeho7oT6YBjDo9yJ2yp', assistant_id='asst_oJaux3brfP46PF1oRVNVXTYn', cancelled_at=None, completed_at=None, created_at=1720487379, expires_at=1720487979, failed_at=None, incomplete_details=None, instructions='You help users with their questions on the files they upload.', last_error=None, max_completion_tokens=None, max_prompt_tokens=None, metadata={}, model='gpt-4o', object='thread.run', parallel_tool_calls=True, required_action=None, response_format='auto', started_at=None, status='queued', thread_id='thread_nHtnljPqee7IWeELvZ4t3tFj', tool_choice='auto', tools=[FileSearchTool(type='file_search', file_search=None)], truncation_strategy=TruncationStrategy(type='auto', last_messages=None), usage=None, temperature=1.0, top_p=1.0, tool_resources={})\n"
     ]
    }
   ],
   "source": [
    "run = client.beta.threads.runs.create(\n",
    "    thread_id=thread.id,\n",
    "    assistant_id=assistant.id,\n",
    ")\n",
    "\n",
    "print(run)"
   ]
  },
  {
   "cell_type": "code",
   "execution_count": null,
   "metadata": {},
   "outputs": [
    {
     "data": {
      "text/plain": [
       "FileObject(id='file-1VdmHgsBB8e1rNRARlHoi1JL', bytes=1644307, created_at=1720486747, filename='Orwell_1984.pdf', object='file', purpose='assistants', status='processed', status_details=None)"
      ]
     },
     "execution_count": 3,
     "metadata": {},
     "output_type": "execute_result"
    }
   ],
   "source": [
    "with open(\"./files/Orwell_1984.pdf\", \"rb\") as file_object:\n",
    "    file = client.files.create(\n",
    "        file=file_object,\n",
    "        purpose=\"assistants\",\n",
    "    )\n",
    "\n",
    "file"
   ]
  },
  {
   "cell_type": "code",
   "execution_count": 4,
   "metadata": {},
   "outputs": [
    {
     "data": {
      "text/plain": [
       "Message(id='msg_H5KAwcidptQSYeVKQOkeSkhC', assistant_id=None, attachments=[Attachment(file_id='file-1VdmHgsBB8e1rNRARlHoi1JL', tools=[AttachmentToolAssistantToolsFileSearchTypeOnly(type='file_search')])], completed_at=None, content=[TextContentBlock(text=Text(annotations=[], value='Please refer to the uploaded file for my question. '), type='text')], created_at=1720486750, incomplete_at=None, incomplete_details=None, metadata={}, object='thread.message', role='user', run_id=None, status=None, thread_id='thread_nHtnljPqee7IWeELvZ4t3tFj')"
      ]
     },
     "execution_count": 4,
     "metadata": {},
     "output_type": "execute_result"
    }
   ],
   "source": [
    "client.beta.threads.messages.create(\n",
    "    thread_id=thread.id,\n",
    "    role=\"user\",\n",
    "    content=\"Please refer to the uploaded file for my question. \",\n",
    "    attachments=[\n",
    "        {\n",
    "            \"file_id\": file.id,\n",
    "            \"tools\": [\n",
    "                {\n",
    "                    \"type\": \"file_search\",\n",
    "                }\n",
    "            ],\n",
    "        }\n",
    "    ],\n",
    ")"
   ]
  },
  {
   "cell_type": "code",
   "execution_count": 5,
   "metadata": {},
   "outputs": [],
   "source": [
    "def get_run(run_id, thread_id):\n",
    "    return client.beta.threads.runs.retrieve(\n",
    "        run_id=run_id,\n",
    "        thread_id=thread_id,\n",
    "    )\n",
    "\n",
    "\n",
    "def get_messages(thread_id):\n",
    "    messages = client.beta.threads.messages.list(thread_id=thread_id)\n",
    "    messages = list(messages)\n",
    "    messages.reverse()\n",
    "    for message in messages:\n",
    "        print(f\"{message.role}: {message.content[0].text.value}\")\n",
    "\n",
    "\n",
    "def send_message(thread_id, content):\n",
    "    return client.beta.threads.messages.create(\n",
    "        thread_id=thread_id, role=\"user\", content=content\n",
    "    )"
   ]
  },
  {
   "cell_type": "code",
   "execution_count": 6,
   "metadata": {},
   "outputs": [
    {
     "name": "stdout",
     "output_type": "stream",
     "text": [
      "user: I want you to answer my questions with the files I uplaoded.\n",
      "user: Please refer to the uploaded file for my question. \n"
     ]
    }
   ],
   "source": [
    "get_messages(thread.id)"
   ]
  },
  {
   "cell_type": "code",
   "execution_count": 14,
   "metadata": {},
   "outputs": [
    {
     "data": {
      "text/plain": [
       "'completed'"
      ]
     },
     "execution_count": 14,
     "metadata": {},
     "output_type": "execute_result"
    }
   ],
   "source": [
    "get_run(run.id, thread.id).status"
   ]
  },
  {
   "cell_type": "code",
   "execution_count": 12,
   "metadata": {},
   "outputs": [
    {
     "name": "stdout",
     "output_type": "stream",
     "text": [
      "user: I want you to answer my questions with the files I uplaoded.\n",
      "user: Please refer to the uploaded file for my question. \n",
      "assistant: Based on the provided text from \"1984\" by George Orwell, I need you to clarify which specific aspect or topic from the book you're interested in. Are you looking for details on a particular character, concept (like doublethink or Newspeak), plot point, or thematic element? Please provide more specific information so that I can assist you effectively.\n",
      "user: I want to know where Winston lives and how his residence looks like.\n"
     ]
    }
   ],
   "source": [
    "get_messages(thread.id)"
   ]
  },
  {
   "cell_type": "code",
   "execution_count": 11,
   "metadata": {},
   "outputs": [
    {
     "data": {
      "text/plain": [
       "Message(id='msg_WNf1GGxbU8X5sdXKsyjyMM1g', assistant_id=None, attachments=[], completed_at=None, content=[TextContentBlock(text=Text(annotations=[], value='I want to know where Winston lives and how his residence looks like.'), type='text')], created_at=1720487334, incomplete_at=None, incomplete_details=None, metadata={}, object='thread.message', role='user', run_id=None, status=None, thread_id='thread_nHtnljPqee7IWeELvZ4t3tFj')"
      ]
     },
     "execution_count": 11,
     "metadata": {},
     "output_type": "execute_result"
    }
   ],
   "source": [
    "send_message(\n",
    "    thread.id, \"I want to know where Winston lives and how his residence looks like.\"\n",
    ")"
   ]
  },
  {
   "cell_type": "code",
   "execution_count": 15,
   "metadata": {},
   "outputs": [
    {
     "name": "stdout",
     "output_type": "stream",
     "text": [
      "user: I want you to answer my questions with the files I uplaoded.\n",
      "user: Please refer to the uploaded file for my question. \n",
      "assistant: Based on the provided text from \"1984\" by George Orwell, I need you to clarify which specific aspect or topic from the book you're interested in. Are you looking for details on a particular character, concept (like doublethink or Newspeak), plot point, or thematic element? Please provide more specific information so that I can assist you effectively.\n",
      "user: I want to know where Winston lives and how his residence looks like.\n",
      "assistant: Winston Smith lives in a flat in Victory Mansions in London. The building and his flat are described in rather bleak terms. The hallways of Victory Mansions smell of boiled cabbage and old rag mats, and the lift often does not work due to frequent power cuts as part of the Party's economy drive. His flat is fitted with a telescreen, which cannot be turned off and constantly monitors him, making privacy impossible【9:1†source】【9:6†source】. \n",
      "\n",
      "In addition to his main residence, Winston also finds a small room above Mr. Charrington's shop, which he uses as a secret hideaway for his clandestine meetings with Julia. This room, unlike his flat, does not have a telescreen and is filled with old furniture and objects that evoke a sense of nostalgia and a past before the Party's control【9:2†source】【9:13†source】. \n",
      "\n",
      "The overall atmosphere in both places reflects the oppressive and controlled environment of Oceania, juxtaposed with fleeting glimpses of a more personal and private past in the room above the shop.\n"
     ]
    }
   ],
   "source": [
    "get_messages(thread.id)"
   ]
  },
  {
   "cell_type": "code",
   "execution_count": null,
   "metadata": {},
   "outputs": [],
   "source": []
  }
 ],
 "metadata": {
  "kernelspec": {
   "display_name": "env",
   "language": "python",
   "name": "python3"
  },
  "language_info": {
   "codemirror_mode": {
    "name": "ipython",
    "version": 3
   },
   "file_extension": ".py",
   "mimetype": "text/x-python",
   "name": "python",
   "nbconvert_exporter": "python",
   "pygments_lexer": "ipython3",
   "version": "3.12.0"
  }
 },
 "nbformat": 4,
 "nbformat_minor": 2
}
