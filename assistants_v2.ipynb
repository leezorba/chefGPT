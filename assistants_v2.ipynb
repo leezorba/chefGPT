{
 "cells": [
  {
   "cell_type": "code",
   "execution_count": 1,
   "metadata": {},
   "outputs": [],
   "source": [
    "from langchain_community.utilities import DuckDuckGoSearchAPIWrapper\n",
    "import yfinance as yf\n",
    "import json\n",
    "from openai import OpenAI\n",
    "\n",
    "\n",
    "def get_ticker(inputs):\n",
    "    ddg = DuckDuckGoSearchAPIWrapper()\n",
    "    company_name = inputs[\"company_name\"]\n",
    "    ticker = ddg.run(f\"Ticker symbol of {company_name}\")\n",
    "    print(f\"Retrieved ticker: {ticker}\")\n",
    "    return ticker\n",
    "\n",
    "\n",
    "def get_income_statement(inputs):\n",
    "    ticker = inputs[\"ticker\"]\n",
    "    stock = yf.Ticker(ticker)\n",
    "    income_statement = stock.financials.to_json()\n",
    "    print(f\"Retrieved income statement for {ticker}\")\n",
    "    return income_statement\n",
    "\n",
    "\n",
    "def get_balance_sheet(inputs):\n",
    "    ticker = inputs[\"ticker\"]\n",
    "    stock = yf.Ticker(ticker)\n",
    "    balance_sheet = stock.balance_sheet.to_json()\n",
    "    print(f\"Retrieved balance sheet for {ticker}\")\n",
    "    return balance_sheet\n",
    "\n",
    "\n",
    "def get_daily_stock_performance(inputs):\n",
    "    ticker = inputs[\"ticker\"]\n",
    "    stock = yf.Ticker(ticker)\n",
    "    stock_performance = stock.history(period=\"3mo\").to_json()\n",
    "    print(f\"Retrieved stock performance for {ticker}\")\n",
    "    return stock_performance\n",
    "\n",
    "\n",
    "functions_map = {\n",
    "    \"get_ticker\": get_ticker,\n",
    "    \"get_income_statement\": get_income_statement,\n",
    "    \"get_balance_sheet\": get_balance_sheet,\n",
    "    \"get_daily_stock_performance\": get_daily_stock_performance,\n",
    "}\n",
    "\n",
    "functions = [\n",
    "    {\n",
    "        \"type\": \"function\",\n",
    "        \"function\": {\n",
    "            \"name\": \"get_ticker\",\n",
    "            \"description\": \"Given the name of a company, returns its ticker symbol\",\n",
    "            \"parameters\": {\n",
    "                \"type\": \"object\",\n",
    "                \"properties\": {\n",
    "                    \"company_name\": {\n",
    "                        \"type\": \"string\",\n",
    "                        \"description\": \"The name of the company\",\n",
    "                    }\n",
    "                },\n",
    "                \"required\": [\"company_name\"],\n",
    "            },\n",
    "        },\n",
    "    },\n",
    "    {\n",
    "        \"type\": \"function\",\n",
    "        \"function\": {\n",
    "            \"name\": \"get_income_statement\",\n",
    "            \"description\": \"Given a ticker symbol (i.e., AAPL), returns the company's income statement.\",\n",
    "            \"parameters\": {\n",
    "                \"type\": \"object\",\n",
    "                \"properties\": {\n",
    "                    \"ticker\": {\n",
    "                        \"type\": \"string\",\n",
    "                        \"description\": \"Ticker symbol of the company\",\n",
    "                    },\n",
    "                },\n",
    "                \"required\": [\"ticker\"],\n",
    "            },\n",
    "        },\n",
    "    },\n",
    "    {\n",
    "        \"type\": \"function\",\n",
    "        \"function\": {\n",
    "            \"name\": \"get_balance_sheet\",\n",
    "            \"description\": \"Given a ticker symbol (i.e., AAPL), returns the company's balance sheet.\",\n",
    "            \"parameters\": {\n",
    "                \"type\": \"object\",\n",
    "                \"properties\": {\n",
    "                    \"ticker\": {\n",
    "                        \"type\": \"string\",\n",
    "                        \"description\": \"Ticker symbol of the company\",\n",
    "                    },\n",
    "                },\n",
    "                \"required\": [\"ticker\"],\n",
    "            },\n",
    "        },\n",
    "    },\n",
    "    {\n",
    "        \"type\": \"function\",\n",
    "        \"function\": {\n",
    "            \"name\": \"get_daily_stock_performance\",\n",
    "            \"description\": \"Given a ticker symbol (i.e., AAPL), returns the performance of the stock for the last 100 days.\",\n",
    "            \"parameters\": {\n",
    "                \"type\": \"object\",\n",
    "                \"properties\": {\n",
    "                    \"ticker\": {\n",
    "                        \"type\": \"string\",\n",
    "                        \"description\": \"Ticker symbol of the company\",\n",
    "                    },\n",
    "                },\n",
    "                \"required\": [\"ticker\"],\n",
    "            },\n",
    "        },\n",
    "    },\n",
    "]\n",
    "\n",
    "client = OpenAI()\n",
    "\n",
    "assistant = client.beta.assistants.create(\n",
    "    name=\"Investor Assistant v2.8\",\n",
    "    instructions=\"You help users perform research on publicly traded companies to decide if they should buy the stock or not.\",\n",
    "    tools=functions,\n",
    "    model=\"gpt-4o\",\n",
    ")\n",
    "\n",
    "thread = client.beta.threads.create()\n",
    "\n",
    "message = client.beta.threads.messages.create(\n",
    "    thread_id=thread.id,\n",
    "    role=\"user\",\n",
    "    content=\"I want to know if Extra Space Storage stock is a good buy.\",\n",
    ")\n",
    "\n",
    "run = client.beta.threads.runs.create(\n",
    "    thread_id=thread.id,\n",
    "    assistant_id=assistant.id,\n",
    ")\n",
    "\n",
    "\n",
    "def get_run(run_id, thread_id):\n",
    "    return client.beta.threads.runs.retrieve(\n",
    "        run_id=run_id,\n",
    "        thread_id=thread_id,\n",
    "    )\n",
    "\n",
    "\n",
    "def get_messages(thread_id):\n",
    "    messages = client.beta.threads.messages.list(thread_id=thread_id)\n",
    "    messages = list(messages)\n",
    "    messages.reverse()\n",
    "    for message in messages:\n",
    "        print(f\"{message.role}: {message.content[0].text.value}\")\n",
    "\n",
    "\n",
    "def send_message(thread_id, content):\n",
    "    return client.beta.threads.messages.create(\n",
    "        thread_id=thread_id, role=\"user\", content=content\n",
    "    )\n",
    "\n",
    "\n",
    "def get_tool_outputs(run_id, thread_id):\n",
    "    run = get_run(run_id, thread_id)\n",
    "    outputs = []\n",
    "    for action in run.required_action.submit_tool_outputs.tool_calls:\n",
    "        action_id = action.id\n",
    "        function = action.function\n",
    "        print(f\"Calling function: {function.name} with arg {function.arguments}\")\n",
    "        outputs.append(\n",
    "            {\n",
    "                \"output\": functions_map[function.name](json.loads(function.arguments)),\n",
    "                \"tool_call_id\": action_id,\n",
    "            }\n",
    "        )\n",
    "    return outputs\n",
    "\n",
    "\n",
    "def submit_tool_outputs(run_id, thread_id):\n",
    "    outputs = get_tool_outputs(run_id, thread_id)\n",
    "    return client.beta.threads.runs.submit_tool_outputs(\n",
    "        run_id=run_id,\n",
    "        thread_id=thread_id,\n",
    "        tool_outputs=outputs,\n",
    "    )"
   ]
  },
  {
   "cell_type": "code",
   "execution_count": 6,
   "metadata": {},
   "outputs": [
    {
     "data": {
      "text/plain": [
       "'requires_action'"
      ]
     },
     "execution_count": 6,
     "metadata": {},
     "output_type": "execute_result"
    }
   ],
   "source": [
    "get_run(run.id, thread.id).status"
   ]
  },
  {
   "cell_type": "code",
   "execution_count": 3,
   "metadata": {},
   "outputs": [
    {
     "name": "stdout",
     "output_type": "stream",
     "text": [
      "user: I want to know if Extra Space Storage stock is a good buy.\n"
     ]
    }
   ],
   "source": [
    "get_messages(thread.id)"
   ]
  },
  {
   "cell_type": "code",
   "execution_count": 4,
   "metadata": {},
   "outputs": [
    {
     "name": "stdout",
     "output_type": "stream",
     "text": [
      "Calling function: get_ticker with arg {\"company_name\":\"Extra Space Storage\"}\n",
      "Retrieved ticker: Get a real-time Extra Space Storage Inc. (EXR) stock price quote with breaking news, financials, statistics, charts and more. ... Ticker Symbol EXR. Full Company Profile. Financial Performance. In 2023, EXR's revenue was $2.56 billion, an increase of 33.06% compared to the previous year's $1.92 billion. Earnings were $803.20 million, a decrease ... A high-level overview of Extra Space Storage Inc. (EXR) stock. Stay up to date on the latest stock price, chart, news, analysis, fundamentals, trading and investment tools. Stock analysis for Extra Space Storage Inc (EXR:New York) including stock price, stock chart, company news, key statistics, fundamentals and company profile. The latest Extra Space Storage stock prices, stock quotes, news, and EXR history to help you invest and trade smarter. ... P/E ratio (year end quote, diluted EPS) 33.83 22.97 36.60 31.21 ... Extra Space Storage's stock was trading at $160.33 on January 1st, 2024. Since then, EXR stock has decreased by 3.7% and is now trading at $154.36. View the best growth stocks for 2024 here.\n"
     ]
    },
    {
     "data": {
      "text/plain": [
       "[{'output': \"Get a real-time Extra Space Storage Inc. (EXR) stock price quote with breaking news, financials, statistics, charts and more. ... Ticker Symbol EXR. Full Company Profile. Financial Performance. In 2023, EXR's revenue was $2.56 billion, an increase of 33.06% compared to the previous year's $1.92 billion. Earnings were $803.20 million, a decrease ... A high-level overview of Extra Space Storage Inc. (EXR) stock. Stay up to date on the latest stock price, chart, news, analysis, fundamentals, trading and investment tools. Stock analysis for Extra Space Storage Inc (EXR:New York) including stock price, stock chart, company news, key statistics, fundamentals and company profile. The latest Extra Space Storage stock prices, stock quotes, news, and EXR history to help you invest and trade smarter. ... P/E ratio (year end quote, diluted EPS) 33.83 22.97 36.60 31.21 ... Extra Space Storage's stock was trading at $160.33 on January 1st, 2024. Since then, EXR stock has decreased by 3.7% and is now trading at $154.36. View the best growth stocks for 2024 here.\",\n",
       "  'tool_call_id': 'call_6Mw2eJu6CIS6Q3Qvfl08E4Sm'}]"
      ]
     },
     "execution_count": 4,
     "metadata": {},
     "output_type": "execute_result"
    }
   ],
   "source": [
    "get_tool_outputs(run.id, thread.id)"
   ]
  },
  {
   "cell_type": "code",
   "execution_count": null,
   "metadata": {},
   "outputs": [],
   "source": []
  }
 ],
 "metadata": {
  "kernelspec": {
   "display_name": "env",
   "language": "python",
   "name": "python3"
  },
  "language_info": {
   "codemirror_mode": {
    "name": "ipython",
    "version": 3
   },
   "file_extension": ".py",
   "mimetype": "text/x-python",
   "name": "python",
   "nbconvert_exporter": "python",
   "pygments_lexer": "ipython3",
   "version": "3.12.0"
  }
 },
 "nbformat": 4,
 "nbformat_minor": 2
}
